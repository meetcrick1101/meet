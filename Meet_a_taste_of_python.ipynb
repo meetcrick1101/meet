{
  "cells": [
    {
      "cell_type": "markdown",
      "metadata": {
        "id": "view-in-github",
        "colab_type": "text"
      },
      "source": [
        "<a href=\"https://colab.research.google.com/github/meetcrick1101/meet/blob/main/Meet_a_taste_of_python.ipynb\" target=\"_parent\"><img src=\"https://colab.research.google.com/assets/colab-badge.svg\" alt=\"Open In Colab\"/></a>"
      ]
    },
    {
      "cell_type": "markdown",
      "id": "990c534e-ee5b-4406-ac98-d3357f3bd7ec",
      "metadata": {
        "id": "990c534e-ee5b-4406-ac98-d3357f3bd7ec"
      },
      "source": [
        "# A Taste of Python\n",
        "\n",
        "Computers do two things really well. ***Store values*** and ***perform operations*** on those values\n",
        "\n",
        "You might think they’re doing a whole lot more, as you send texts, shop online, or rely on your phone to navigate in your car; however, everything computers do can be broken down into simple operations that are performed on simple values.\n",
        "\n",
        "Now, part of computational thinking is learning to use these operations and values to build something that is much more sophisticated, complex, and meaningful—and we’re going to get to that.\n",
        "\n",
        "First, though, we’re going to take a look at what these values are, the operations you can perform on them, and just what role variables play in all this.\n",
        "\n",
        "# Store Values\n",
        "\n",
        "### What is a value?\n",
        "\n",
        "Because programs are written to process data, you must have a good understanding of the nature and structure of the data being processed.\n",
        "\n",
        "Data within a program may be a single value, such as a number.  In the cell below try some different numbers, say 123, or 31.7."
      ]
    },
    {
      "cell_type": "code",
      "execution_count": null,
      "id": "a3506a0d-e007-45b1-920f-d499033baf9f",
      "metadata": {
        "colab": {
          "base_uri": "https://localhost:8080/"
        },
        "id": "a3506a0d-e007-45b1-920f-d499033baf9f",
        "outputId": "d49b4b03-17c5-45fd-f8cd-d0497117e20e"
      },
      "outputs": [
        {
          "output_type": "execute_result",
          "data": {
            "text/plain": [
              "23"
            ]
          },
          "metadata": {},
          "execution_count": 1
        }
      ],
      "source": [
        "23"
      ]
    },
    {
      "cell_type": "markdown",
      "id": "7e26a95d-228d-41e5-8c4e-895765bc23f7",
      "metadata": {
        "id": "7e26a95d-228d-41e5-8c4e-895765bc23f7"
      },
      "source": [
        "Data within a program may be a single value, such as a character.  Are the quotes important? Is 'A' different from 'a'?"
      ]
    },
    {
      "cell_type": "code",
      "execution_count": null,
      "id": "cbd8c919-9732-4f5d-9b82-9209aff137f6",
      "metadata": {
        "id": "cbd8c919-9732-4f5d-9b82-9209aff137f6",
        "colab": {
          "base_uri": "https://localhost:8080/",
          "height": 35
        },
        "outputId": "f1626de6-8d3a-485b-e543-086df9e8472d"
      },
      "outputs": [
        {
          "output_type": "execute_result",
          "data": {
            "text/plain": [
              "'a'"
            ],
            "application/vnd.google.colaboratory.intrinsic+json": {
              "type": "string"
            }
          },
          "metadata": {},
          "execution_count": 1
        }
      ],
      "source": [
        "\"a\""
      ]
    },
    {
      "cell_type": "code",
      "source": [
        "\"A\"\n"
      ],
      "metadata": {
        "colab": {
          "base_uri": "https://localhost:8080/",
          "height": 35
        },
        "id": "a7_BASQmPpEX",
        "outputId": "c9503e75-c1bc-4d5a-d35b-799c780489e6"
      },
      "id": "a7_BASQmPpEX",
      "execution_count": null,
      "outputs": [
        {
          "output_type": "execute_result",
          "data": {
            "text/plain": [
              "'A'"
            ],
            "application/vnd.google.colaboratory.intrinsic+json": {
              "type": "string"
            }
          },
          "metadata": {},
          "execution_count": 4
        }
      ]
    },
    {
      "cell_type": "markdown",
      "id": "d6583eb9-8381-4de7-b70a-3da9bae50b5b",
      "metadata": {
        "id": "d6583eb9-8381-4de7-b70a-3da9bae50b5b"
      },
      "source": [
        "Data within a program may be a single value, such as true or false.  In programming we call the a booloean value, sometimes abbreviated as bool."
      ]
    },
    {
      "cell_type": "code",
      "execution_count": null,
      "id": "e222c1a7-963f-4ab7-8d95-02fead45cc14",
      "metadata": {
        "id": "e222c1a7-963f-4ab7-8d95-02fead45cc14",
        "colab": {
          "base_uri": "https://localhost:8080/",
          "height": 141
        },
        "outputId": "f26d4ead-c7f0-41bd-c251-31c6a591da19"
      },
      "outputs": [
        {
          "output_type": "error",
          "ename": "NameError",
          "evalue": "name 'true' is not defined",
          "traceback": [
            "\u001b[0;31m---------------------------------------------------------------------------\u001b[0m",
            "\u001b[0;31mNameError\u001b[0m                                 Traceback (most recent call last)",
            "\u001b[0;32m<ipython-input-5-724ba28f4a9a>\u001b[0m in \u001b[0;36m<cell line: 1>\u001b[0;34m()\u001b[0m\n\u001b[0;32m----> 1\u001b[0;31m \u001b[0mtrue\u001b[0m\u001b[0;34m\u001b[0m\u001b[0;34m\u001b[0m\u001b[0m\n\u001b[0m",
            "\u001b[0;31mNameError\u001b[0m: name 'true' is not defined"
          ]
        }
      ],
      "source": [
        "true"
      ]
    },
    {
      "cell_type": "code",
      "source": [
        "True"
      ],
      "metadata": {
        "colab": {
          "base_uri": "https://localhost:8080/"
        },
        "id": "tJCfBzr6P13_",
        "outputId": "18f27b67-3f71-41dd-a14a-8acd275ab5c0"
      },
      "id": "tJCfBzr6P13_",
      "execution_count": null,
      "outputs": [
        {
          "output_type": "execute_result",
          "data": {
            "text/plain": [
              "True"
            ]
          },
          "metadata": {},
          "execution_count": 6
        }
      ]
    },
    {
      "cell_type": "markdown",
      "id": "6b5fad28-f83e-4071-8c07-b682f0f8a378",
      "metadata": {
        "id": "6b5fad28-f83e-4071-8c07-b682f0f8a378"
      },
      "source": [
        "Data within a program may be a group items such as a list.  The list could contian the same or different type of values."
      ]
    },
    {
      "cell_type": "code",
      "execution_count": null,
      "id": "45204b84-3142-48dc-bb82-15d07ac5bcb5",
      "metadata": {
        "id": "45204b84-3142-48dc-bb82-15d07ac5bcb5",
        "colab": {
          "base_uri": "https://localhost:8080/"
        },
        "outputId": "c3811a81-6784-4e3d-914a-72cde3c15c62"
      },
      "outputs": [
        {
          "output_type": "execute_result",
          "data": {
            "text/plain": [
              "[12, 2, 3, 23, 32]"
            ]
          },
          "metadata": {},
          "execution_count": 7
        }
      ],
      "source": [
        "[12,2,3,23,32]"
      ]
    },
    {
      "cell_type": "code",
      "source": [
        "[Meet, John, Shaun]"
      ],
      "metadata": {
        "colab": {
          "base_uri": "https://localhost:8080/",
          "height": 141
        },
        "id": "GQZ5HelBQXww",
        "outputId": "27e70919-6a0e-43b8-c6d5-9d32d80e724c"
      },
      "id": "GQZ5HelBQXww",
      "execution_count": null,
      "outputs": [
        {
          "output_type": "error",
          "ename": "NameError",
          "evalue": "name 'Meet' is not defined",
          "traceback": [
            "\u001b[0;31m---------------------------------------------------------------------------\u001b[0m",
            "\u001b[0;31mNameError\u001b[0m                                 Traceback (most recent call last)",
            "\u001b[0;32m<ipython-input-8-1f92c93fcc3a>\u001b[0m in \u001b[0;36m<cell line: 1>\u001b[0;34m()\u001b[0m\n\u001b[0;32m----> 1\u001b[0;31m \u001b[0;34m[\u001b[0m\u001b[0mMeet\u001b[0m\u001b[0;34m,\u001b[0m \u001b[0mJohn\u001b[0m\u001b[0;34m,\u001b[0m \u001b[0mShaun\u001b[0m\u001b[0;34m]\u001b[0m\u001b[0;34m\u001b[0m\u001b[0;34m\u001b[0m\u001b[0m\n\u001b[0m",
            "\u001b[0;31mNameError\u001b[0m: name 'Meet' is not defined"
          ]
        }
      ]
    },
    {
      "cell_type": "code",
      "source": [
        "[\"Meet, John, Shaun\"]"
      ],
      "metadata": {
        "colab": {
          "base_uri": "https://localhost:8080/"
        },
        "id": "VdacNZ2TQf2M",
        "outputId": "c71ecdfb-c59e-4d44-f377-cf70524ea380"
      },
      "id": "VdacNZ2TQf2M",
      "execution_count": null,
      "outputs": [
        {
          "output_type": "execute_result",
          "data": {
            "text/plain": [
              "['Meet, John, Shaun']"
            ]
          },
          "metadata": {},
          "execution_count": 9
        }
      ]
    },
    {
      "cell_type": "markdown",
      "id": "5f4d9675-4fac-43f3-a786-e2d82ebd3d3c",
      "metadata": {
        "id": "5f4d9675-4fac-43f3-a786-e2d82ebd3d3c"
      },
      "source": [
        "Data within a program may be a group items such as a string."
      ]
    },
    {
      "cell_type": "code",
      "execution_count": null,
      "id": "a04eb2f0-4f59-47ea-9556-3cba1c88ac1c",
      "metadata": {
        "id": "a04eb2f0-4f59-47ea-9556-3cba1c88ac1c"
      },
      "outputs": [],
      "source": []
    },
    {
      "cell_type": "markdown",
      "id": "f00208cc-adc9-4a36-92b4-1d54f08c3d7a",
      "metadata": {
        "id": "f00208cc-adc9-4a36-92b4-1d54f08c3d7a"
      },
      "source": [
        "Is there a way to determine the type of an item is? In Python we have a the *type()* function. In the cell below, find out the type of  3, 3.0, '3', '3.0'  and [3, 3.0,'3', '3.0'].\n",
        "> We are going to use functions a lot, before long you will understand exactly how they work and even know how to create your own, but for now just think of them as a way to *ask* Python to do some work.  In the cell is known as **calling** the *type* function.  Functions have a name followed by left parenthesis, a data item and end with a right parenthesis."
      ]
    },
    {
      "cell_type": "code",
      "execution_count": null,
      "id": "112bf20b-79c2-43cd-9524-ed3fcd5ff9e0",
      "metadata": {
        "id": "112bf20b-79c2-43cd-9524-ed3fcd5ff9e0"
      },
      "outputs": [],
      "source": []
    },
    {
      "cell_type": "markdown",
      "id": "2dda7b13-5322-4cb2-9984-7707075fb87f",
      "metadata": {
        "tags": [],
        "id": "2dda7b13-5322-4cb2-9984-7707075fb87f"
      },
      "source": [
        "What are the different types?  Here is a simple table, we will expand on this later.\n",
        "\n",
        "| Data Type | Python Expressions | Description                   | Example |\n",
        "|-----------|--------------------|-------------------------------|---------|\n",
        "|integer    | int                | A whole numeber               | 143267  |\n",
        "|decimal    | float              | A floating point number       | 3.13159 |\n",
        "|string     | str                | Set of characters in quotes   | \"Hello\" |\n",
        "|boolean    | bool               | anything evaluates true/false | True    |\n",
        "|List       | list               | An ordered list of values     | [1,4,5] |\n",
        "\n",
        "\n",
        "\n",
        "### How do we store values?\n",
        "\n",
        "To be useful we need a way to store values in computer's memory.  To this we need to be able to identify a location in memory.  We could use a memory address but that could get confusing, instead we given the location a name, and identifier.  In programming we call this a variable.  A ***variable*** is the name given to a part of the computers memory, designed to store aprticular data item.  It is called a variable because the value stored may change or vary as the program executes. The values we typed in above are know as literals. A **literal** is a constant whose *name* is the written representaiton of the value.  A ***constant*** is a data item with a name amd a value that will remian the same during the executation of a program.  We will use constants later.\n",
        "\n",
        "To store a value, we create a variable and then assign the value.  To assign  a value we use the equals (**=**) sign."
      ]
    },
    {
      "cell_type": "code",
      "execution_count": null,
      "id": "1a4fdd7b-c2b2-4be3-be60-98fcb3da27d9",
      "metadata": {
        "colab": {
          "base_uri": "https://localhost:8080/"
        },
        "id": "1a4fdd7b-c2b2-4be3-be60-98fcb3da27d9",
        "outputId": "9fa3f51b-2a84-4f5b-94e1-15e7782f9e30"
      },
      "outputs": [
        {
          "output_type": "execute_result",
          "data": {
            "text/plain": [
              "21"
            ]
          },
          "metadata": {},
          "execution_count": 5
        }
      ],
      "source": [
        "age=21\n",
        "age"
      ]
    },
    {
      "cell_type": "markdown",
      "id": "0a2fb99e-a477-4f13-ae2e-510eab3e3d44",
      "metadata": {
        "id": "0a2fb99e-a477-4f13-ae2e-510eab3e3d44"
      },
      "source": [
        "What is the type of a variable?  We can use the type() function to find out.\n",
        "> Notice how we can use a *variable* just like we use a *value* in the above cells"
      ]
    },
    {
      "cell_type": "code",
      "execution_count": null,
      "id": "41ca8219-83d6-4aca-92bf-3835fdaa19fb",
      "metadata": {
        "colab": {
          "base_uri": "https://localhost:8080/"
        },
        "id": "41ca8219-83d6-4aca-92bf-3835fdaa19fb",
        "outputId": "0cec4755-51a0-4c35-d932-041b3bb967d6"
      },
      "outputs": [
        {
          "output_type": "execute_result",
          "data": {
            "text/plain": [
              "int"
            ]
          },
          "metadata": {},
          "execution_count": 6
        }
      ],
      "source": [
        "type(age)"
      ]
    },
    {
      "cell_type": "markdown",
      "id": "56ca1fd8-bddf-4bd7-af91-6487badc429f",
      "metadata": {
        "id": "56ca1fd8-bddf-4bd7-af91-6487badc429f"
      },
      "source": [
        "We can assigned group items to variables"
      ]
    },
    {
      "cell_type": "code",
      "execution_count": null,
      "id": "237a9327-373d-4224-92cf-8d922aa873a5",
      "metadata": {
        "colab": {
          "base_uri": "https://localhost:8080/"
        },
        "id": "237a9327-373d-4224-92cf-8d922aa873a5",
        "outputId": "3c3fce29-417c-4b8b-8362-fa90bd3e3013"
      },
      "outputs": [
        {
          "output_type": "execute_result",
          "data": {
            "text/plain": [
              "[1, 3, 4, 6]"
            ]
          },
          "metadata": {},
          "execution_count": 7
        }
      ],
      "source": [
        "ages=[1,3,4,6]\n",
        "ages"
      ]
    },
    {
      "cell_type": "markdown",
      "id": "277f56d4-e52a-411d-8cae-5d0a84abde80",
      "metadata": {
        "id": "277f56d4-e52a-411d-8cae-5d0a84abde80"
      },
      "source": [
        "We can change a varialbe"
      ]
    },
    {
      "cell_type": "code",
      "execution_count": null,
      "id": "0256c9c6-fe19-43e6-8945-bff88804d457",
      "metadata": {
        "colab": {
          "base_uri": "https://localhost:8080/"
        },
        "id": "0256c9c6-fe19-43e6-8945-bff88804d457",
        "outputId": "4fe21dac-9570-4031-a4c3-de412fb761cb"
      },
      "outputs": [
        {
          "output_type": "execute_result",
          "data": {
            "text/plain": [
              "list"
            ]
          },
          "metadata": {},
          "execution_count": 9
        }
      ],
      "source": [
        "type(ages)"
      ]
    },
    {
      "cell_type": "markdown",
      "id": "257d6ae7-d4bf-4c75-aae3-800511733978",
      "metadata": {
        "tags": [],
        "id": "257d6ae7-d4bf-4c75-aae3-800511733978"
      },
      "source": [
        "#### Naming rules\n",
        "\n",
        "Variable names must be unique and they are case sensitive.\n",
        "* Only letters, numbers, and the underscore character (_) can be used  ```this.is.not.allowed```\n",
        "* No spaces ```this is not allowed```\n",
        "* No quotes ```“NotAllowed”```\n",
        "* Can’t start with a number ```6notAllowed```\n",
        "* Can't be a keyword  ```import```\n",
        "\n",
        "#### Naming conventions\n",
        "We will learn other naming conventions, but for now\n",
        "* variable names should be meaningfuly (can someone else understand)\n",
        "* seperate words with underscores ```monthly_sales```  (this is called snake_case)\n",
        "\n",
        "\n",
        "\n",
        "# Perform Operations\n",
        "\n",
        "There are six basic computer operations.\n",
        "\n",
        "1. Receive Informaiton.\n",
        "1. Output information.\n",
        "1. Assign a value to a variable. There are three cases where you may assign a value to variable.\n",
        "    * give data an initial value.\n",
        "    * assign a value as a results of some processing\n",
        "    * to keep a piece of information for later use.\n",
        "1. Perform arithmetic.\n",
        "1. Compare two variables and select appropriate action.\n",
        "1. Repeat a group of actions.\n",
        "\n",
        "> When designing an algorithm you need to keep in mind that the set of instruction written will eventually be performed by a computer.  That is your words and phrases in the pseudocode which are in line with computer operations, the translation form pseudocode to specific programming language becomes quite simple.\n",
        "\n",
        "## Receive Information\n",
        "\n",
        "Python has a *input* function that will allow you to enter information form the keyboard."
      ]
    },
    {
      "cell_type": "code",
      "source": [
        "2+4\n"
      ],
      "metadata": {
        "id": "8J5FE5nnlCWf",
        "colab": {
          "base_uri": "https://localhost:8080/"
        },
        "outputId": "4d193e74-8ba2-48a5-aafb-a96dd5606a18"
      },
      "id": "8J5FE5nnlCWf",
      "execution_count": null,
      "outputs": [
        {
          "output_type": "execute_result",
          "data": {
            "text/plain": [
              "6"
            ]
          },
          "metadata": {},
          "execution_count": 10
        }
      ]
    },
    {
      "cell_type": "code",
      "source": [
        "3*9"
      ],
      "metadata": {
        "colab": {
          "base_uri": "https://localhost:8080/"
        },
        "id": "4oZkXYXkSLZU",
        "outputId": "9d50321d-e367-45d5-d2e0-b803fe235b35"
      },
      "id": "4oZkXYXkSLZU",
      "execution_count": null,
      "outputs": [
        {
          "output_type": "execute_result",
          "data": {
            "text/plain": [
              "27"
            ]
          },
          "metadata": {},
          "execution_count": 11
        }
      ]
    },
    {
      "cell_type": "markdown",
      "source": [],
      "metadata": {
        "id": "cVd2QQ5ulBPR"
      },
      "id": "cVd2QQ5ulBPR"
    },
    {
      "cell_type": "markdown",
      "id": "fb98df5c-aaba-47c6-b210-a69c413ed123",
      "metadata": {
        "id": "fb98df5c-aaba-47c6-b210-a69c413ed123"
      },
      "source": [
        "How does *input* work?\n",
        "1. The interpreter see the call to the *input* function, it take the prompt text and displays it for the user\n",
        "2. The interpreter then waits for the user to type in a repsonse, which the user completes by pressing the return key (also called the enter key)\n",
        "3. Finally the text the user types in is passed back to your code.\n",
        "\n",
        "Now, the text isint going to be useful if we cant remember it for later.  To do this we store the *return value* to a variable"
      ]
    },
    {
      "cell_type": "code",
      "source": [
        "a = int(input(\"enter the first number\"))"
      ],
      "metadata": {
        "colab": {
          "base_uri": "https://localhost:8080/"
        },
        "id": "HwgN4cW7SzhF",
        "outputId": "0b60ab23-6813-4865-ffce-ef3dba3c27af"
      },
      "id": "HwgN4cW7SzhF",
      "execution_count": null,
      "outputs": [
        {
          "name": "stdout",
          "output_type": "stream",
          "text": [
            "enter the first number5\n"
          ]
        }
      ]
    },
    {
      "cell_type": "code",
      "source": [
        "b = int(input(\"enter the second number\"))"
      ],
      "metadata": {
        "colab": {
          "base_uri": "https://localhost:8080/"
        },
        "id": "HtrDFuiiTUSf",
        "outputId": "6359ba80-6bf4-4708-c662-43cb45286f41"
      },
      "id": "HtrDFuiiTUSf",
      "execution_count": null,
      "outputs": [
        {
          "name": "stdout",
          "output_type": "stream",
          "text": [
            "enter the second number7\n"
          ]
        }
      ]
    },
    {
      "cell_type": "code",
      "source": [
        "a+b"
      ],
      "metadata": {
        "colab": {
          "base_uri": "https://localhost:8080/"
        },
        "id": "zM1MGO3NTh-r",
        "outputId": "52767189-c0d4-451c-c607-f4352774636a"
      },
      "id": "zM1MGO3NTh-r",
      "execution_count": null,
      "outputs": [
        {
          "output_type": "execute_result",
          "data": {
            "text/plain": [
              "12"
            ]
          },
          "metadata": {},
          "execution_count": 18
        }
      ]
    },
    {
      "cell_type": "markdown",
      "id": "25087e0c-c18a-4478-b79a-01fbcefb8bc9",
      "metadata": {
        "id": "25087e0c-c18a-4478-b79a-01fbcefb8bc9"
      },
      "source": [
        "## Output Information\n",
        "\n",
        "Python has a *print* function that can output a message to the screen"
      ]
    },
    {
      "cell_type": "code",
      "execution_count": null,
      "id": "f600bbf8-e6d3-44f3-8301-86952bf50156",
      "metadata": {
        "colab": {
          "base_uri": "https://localhost:8080/"
        },
        "id": "f600bbf8-e6d3-44f3-8301-86952bf50156",
        "outputId": "9078be78-b987-4f26-f3c4-d48a33618fa0"
      },
      "outputs": [
        {
          "output_type": "stream",
          "name": "stdout",
          "text": [
            "hello world\n"
          ]
        }
      ],
      "source": [
        "print(\"hello world\")"
      ]
    },
    {
      "cell_type": "code",
      "execution_count": null,
      "id": "5636b5db-1114-40bb-a88f-47874c11890e",
      "metadata": {
        "id": "5636b5db-1114-40bb-a88f-47874c11890e",
        "colab": {
          "base_uri": "https://localhost:8080/"
        },
        "outputId": "5ad853a1-8104-41ad-91f4-07ca85092845"
      },
      "outputs": [
        {
          "output_type": "stream",
          "name": "stdout",
          "text": [
            "12\n"
          ]
        }
      ],
      "source": [
        "print(a+b)"
      ]
    },
    {
      "cell_type": "markdown",
      "id": "5964a396-2596-47ba-b7b9-ca950cc6fa52",
      "metadata": {
        "id": "5964a396-2596-47ba-b7b9-ca950cc6fa52"
      },
      "source": [
        "The interpreter sees the call to the *print* function, it takes the message text and displys it to the user.\n",
        "\n",
        "Can we print variables?"
      ]
    },
    {
      "cell_type": "code",
      "execution_count": null,
      "id": "d09bdd9a-f5f0-426e-baf6-3d20472f19a5",
      "metadata": {
        "colab": {
          "base_uri": "https://localhost:8080/"
        },
        "id": "d09bdd9a-f5f0-426e-baf6-3d20472f19a5",
        "outputId": "4655094d-c2da-462c-839d-4c4ccad95198"
      },
      "outputs": [
        {
          "output_type": "stream",
          "name": "stdout",
          "text": [
            "21\n"
          ]
        }
      ],
      "source": [
        "print(age)"
      ]
    },
    {
      "cell_type": "markdown",
      "id": "77cb490e-4c83-4073-97b2-0c8ca66f0158",
      "metadata": {
        "id": "77cb490e-4c83-4073-97b2-0c8ca66f0158"
      },
      "source": [
        "As you can see the *print* function will take a **literial** or a **variable**.  We will see later that the *print* function can do more, but this is a good start.\n",
        "\n",
        "## Assign a value to a variable\n",
        "\n",
        "We have seen each of three cases, but I will repeat here for clarity.\n",
        "\n",
        "I have added some *comments* to the code.  Comments are just notes after the **#** marks.  We use comments to explain the purpose of the code.  Comments can be thought of as helpful pseudocode."
      ]
    },
    {
      "cell_type": "code",
      "execution_count": null,
      "id": "9311e0b3-9933-4839-8263-a8c963bcef03",
      "metadata": {
        "id": "9311e0b3-9933-4839-8263-a8c963bcef03"
      },
      "outputs": [],
      "source": [
        "# example of giving a variable an initial value\n",
        "\n",
        "\n",
        "# example of assigning a value as a result of some processing\n",
        "\n",
        "\n",
        "# example of using a piece of information later\n",
        "\n"
      ]
    },
    {
      "cell_type": "markdown",
      "id": "7882c412-459a-413f-aed8-44bd52789a47",
      "metadata": {
        "id": "7882c412-459a-413f-aed8-44bd52789a47"
      },
      "source": [
        "## Perform Arithmetic\n",
        "\n",
        "\n",
        "| Operation | Description           | Example       |  Result  |\n",
        "|:---------:|-----------------------|---------------|----------|\n",
        "| ```+```   | Addition              | ```3 + 2.2``` | ```5.2```|\n",
        "| ```-```   | Subtraction           | ```5 - 2```   | ```3```  |\n",
        "| ```*```   | Multiplication        | ```3 * 8```   | ```24``` |\n",
        "| ```**```  | Raise to the power of | ```3 ** 2```  | ```9```  |\n",
        "| ```/```   | Division              | ```5/2```     | ```2.5```|\n",
        "| ```//```  | Integer Division      | ```5/2```     | ```2```  |\n",
        "| ```%```   | Modulo                | ```5%2```     | ```1```  |\n",
        "\n",
        "Use the cell below to try out some of the examples"
      ]
    },
    {
      "cell_type": "code",
      "execution_count": null,
      "id": "4f02a3c4-92df-4b56-9699-8627467a6e14",
      "metadata": {
        "colab": {
          "base_uri": "https://localhost:8080/"
        },
        "id": "4f02a3c4-92df-4b56-9699-8627467a6e14",
        "outputId": "7500101b-73aa-46da-c52a-ad8473e10f26"
      },
      "outputs": [
        {
          "output_type": "execute_result",
          "data": {
            "text/plain": [
              "7"
            ]
          },
          "metadata": {},
          "execution_count": 43
        }
      ],
      "source": [
        "n1=3\n",
        "n2=4\n",
        "n1+n2"
      ]
    },
    {
      "cell_type": "markdown",
      "id": "26d55bd3-e43b-4bb4-b0f9-cc3c46152ea0",
      "metadata": {
        "id": "26d55bd3-e43b-4bb4-b0f9-cc3c46152ea0"
      },
      "source": [
        "```3 + 2.2``` is called an expression.  When you evaluate an expression you can store the result into a variable"
      ]
    },
    {
      "cell_type": "code",
      "execution_count": null,
      "id": "b9db7b35-3936-48a4-b3ae-957fc9ac6468",
      "metadata": {
        "colab": {
          "base_uri": "https://localhost:8080/"
        },
        "id": "b9db7b35-3936-48a4-b3ae-957fc9ac6468",
        "outputId": "0912fdff-d933-424f-8a78-63e8c397482f"
      },
      "outputs": [
        {
          "output_type": "stream",
          "name": "stdout",
          "text": [
            "7\n"
          ]
        }
      ],
      "source": [
        "sum=n1+n2\n",
        "print(sum)"
      ]
    },
    {
      "cell_type": "markdown",
      "id": "37f7414e-0a5f-42ba-9e21-e37ab1e1a27e",
      "metadata": {
        "id": "37f7414e-0a5f-42ba-9e21-e37ab1e1a27e"
      },
      "source": [
        "You can print expresisons"
      ]
    },
    {
      "cell_type": "code",
      "execution_count": null,
      "id": "9bb15522-6a92-40a1-b83e-571081a9b66d",
      "metadata": {
        "colab": {
          "base_uri": "https://localhost:8080/"
        },
        "id": "9bb15522-6a92-40a1-b83e-571081a9b66d",
        "outputId": "d50fbd2e-1023-427c-cc59-86c914eb709a"
      },
      "outputs": [
        {
          "output_type": "stream",
          "name": "stdout",
          "text": [
            "5\n"
          ]
        }
      ],
      "source": [
        "print(2+3)"
      ]
    },
    {
      "cell_type": "markdown",
      "id": "99c9524a-68a8-41c9-9266-1ce1f07e39ec",
      "metadata": {
        "id": "99c9524a-68a8-41c9-9266-1ce1f07e39ec"
      },
      "source": [
        "Can perform arithmetic with variables"
      ]
    },
    {
      "cell_type": "code",
      "execution_count": null,
      "id": "1b877516-548e-4f00-88c2-d9ce1651d2c0",
      "metadata": {
        "id": "1b877516-548e-4f00-88c2-d9ce1651d2c0"
      },
      "outputs": [],
      "source": []
    },
    {
      "cell_type": "markdown",
      "id": "07d15980-3e1a-4a0c-8e68-599c09591dda",
      "metadata": {
        "id": "07d15980-3e1a-4a0c-8e68-599c09591dda"
      },
      "source": [
        "Lets sum two number input form the user"
      ]
    },
    {
      "cell_type": "code",
      "execution_count": null,
      "id": "3c090a42-004e-4922-bd72-ed59ff88cb53",
      "metadata": {
        "colab": {
          "base_uri": "https://localhost:8080/",
          "height": 179
        },
        "id": "3c090a42-004e-4922-bd72-ed59ff88cb53",
        "outputId": "bc5001be-7bee-42a7-9283-705abab04e40"
      },
      "outputs": [
        {
          "output_type": "error",
          "ename": "TypeError",
          "evalue": "'str' object is not callable",
          "traceback": [
            "\u001b[0;31m---------------------------------------------------------------------------\u001b[0m",
            "\u001b[0;31mTypeError\u001b[0m                                 Traceback (most recent call last)",
            "\u001b[0;32m<ipython-input-63-872cba1f31d1>\u001b[0m in \u001b[0;36m<cell line: 1>\u001b[0;34m()\u001b[0m\n\u001b[0;32m----> 1\u001b[0;31m \u001b[0mnum2\u001b[0m\u001b[0;34m=\u001b[0m\u001b[0minput\u001b[0m\u001b[0;34m(\u001b[0m\u001b[0;34m\"please enter second number\"\u001b[0m\u001b[0;34m)\u001b[0m\u001b[0;34m\u001b[0m\u001b[0;34m\u001b[0m\u001b[0m\n\u001b[0m\u001b[1;32m      2\u001b[0m \u001b[0mresult\u001b[0m\u001b[0;34m=\u001b[0m\u001b[0mnum1\u001b[0m\u001b[0;34m+\u001b[0m\u001b[0mnum2\u001b[0m\u001b[0;34m\u001b[0m\u001b[0;34m\u001b[0m\u001b[0m\n\u001b[1;32m      3\u001b[0m \u001b[0mprint\u001b[0m\u001b[0;34m(\u001b[0m\u001b[0mresult\u001b[0m\u001b[0;34m)\u001b[0m\u001b[0;34m\u001b[0m\u001b[0;34m\u001b[0m\u001b[0m\n",
            "\u001b[0;31mTypeError\u001b[0m: 'str' object is not callable"
          ]
        }
      ],
      "source": []
    },
    {
      "cell_type": "markdown",
      "id": "9e2da386-c608-408e-9dee-af674c646c06",
      "metadata": {
        "id": "9e2da386-c608-408e-9dee-af674c646c06"
      },
      "source": [
        "What happened?  It didn't add the input, it joined(concatenated) the input.  Lets run the next two cell to investigate."
      ]
    },
    {
      "cell_type": "code",
      "execution_count": null,
      "id": "43dc5d55-891a-4667-888c-63a681ba0a26",
      "metadata": {
        "id": "43dc5d55-891a-4667-888c-63a681ba0a26"
      },
      "outputs": [],
      "source": []
    },
    {
      "cell_type": "code",
      "execution_count": null,
      "id": "3abe5441-1764-49eb-9f25-ccce75269cdd",
      "metadata": {
        "id": "3abe5441-1764-49eb-9f25-ccce75269cdd"
      },
      "outputs": [],
      "source": []
    },
    {
      "cell_type": "markdown",
      "id": "2afd9f3d-c0d9-421c-bfe5-f76538b82793",
      "metadata": {
        "id": "2afd9f3d-c0d9-421c-bfe5-f76538b82793"
      },
      "source": [
        "So the data type of the variables were string.  So the *input* function must return a *str* data type.\n",
        "\n",
        "There is a way we can convert, we can use the *int* function.  So \"12\" is a string os the characters '1' followed by the character '2'.  To convert the string we use the int(\"12\"), and this will return the number 12."
      ]
    },
    {
      "cell_type": "code",
      "execution_count": null,
      "id": "c3e8c802-0638-4b59-9067-24fbb94acca6",
      "metadata": {
        "id": "c3e8c802-0638-4b59-9067-24fbb94acca6"
      },
      "outputs": [],
      "source": []
    },
    {
      "cell_type": "markdown",
      "id": "73a4d763-46da-4c8d-a61c-3acfa8e336b5",
      "metadata": {
        "id": "73a4d763-46da-4c8d-a61c-3acfa8e336b5"
      },
      "source": [
        "## Compare Two Variables\n",
        "\n",
        "Here is a simple program prints out the maximun of two numbers.  This also demonstrates some features of the Python language.\n",
        "\n",
        "> New lines are used to separate logical statements (similar to a period at the end of a sentence).\n",
        ">\n",
        "> Whitespaces (spaces and tabs) are used to indicate which statements should be grouped together (called blocks)\n",
        ">\n",
        "> Colons (:) are used to indicate the continuation of an idea at a deeper level.\n",
        "\n",
        "Try changing the numbers, and rerun the cell.  What happens if you swap *>* for *<*?   What is *<*? We use a *relational operator* to ask a True/False question about the realtionship between two variables.  The followinf table show the relational operators used in Python.\n",
        "\n",
        "\n",
        "| Operation | Description            | Example           |  Result     |\n",
        "|:---------:|------------------------|-------------------|-------------|\n",
        "| ```<```   | Less than              | ```3 < 2```       | ```False``` |\n",
        "| ```>```   | Greater than           | ```3 > 2```       | ```True```  |\n",
        "| ```<=```  | Less than or equal     | ```3 <= 2```      | ```False``` |\n",
        "| ```>=```  | greater than or equal  | ```3 >= 2```      | ```True```  |\n",
        "| ```==```  | equal to               | ```3 == 2```      | ```False``` |\n",
        "| ```!=```  | not equal to           | ```3 != 2```      | ```True```  |\n",
        "| ```not``` | not                    | ```not(3 == 2)``` | ```True```  |"
      ]
    },
    {
      "cell_type": "code",
      "execution_count": null,
      "id": "b51f5001-2df5-42d1-99e8-850a4994048a",
      "metadata": {
        "id": "b51f5001-2df5-42d1-99e8-850a4994048a"
      },
      "outputs": [],
      "source": []
    },
    {
      "cell_type": "markdown",
      "id": "3f2fd3f9-31d2-49a1-84bc-9b71fe393a77",
      "metadata": {
        "id": "3f2fd3f9-31d2-49a1-84bc-9b71fe393a77"
      },
      "source": [
        "Notice the keyword are highlighted in a different colour.  This example uses a boolean expresison: ```first_number > second_number```.  A boolean expression is an *epxression* the evaluates to *True* or *False*.  The expresiosn uses a *relational operator*.  \n",
        "\n",
        " Can you write a version that prompts the user for the numbers?  What happens if you enter in the same number?"
      ]
    },
    {
      "cell_type": "code",
      "execution_count": null,
      "id": "137a88a9-e2eb-4ace-b1cc-b7fdf260941e",
      "metadata": {
        "id": "137a88a9-e2eb-4ace-b1cc-b7fdf260941e",
        "colab": {
          "base_uri": "https://localhost:8080/"
        },
        "outputId": "f3617d93-db21-47ed-abc0-3dcd25432cef"
      },
      "outputs": [
        {
          "name": "stdout",
          "output_type": "stream",
          "text": [
            "enter the first number5\n"
          ]
        }
      ],
      "source": [
        "a = int(input(\"enter the first number\"))"
      ]
    },
    {
      "cell_type": "code",
      "source": [
        "b = int(input(\"enter the second number\"))"
      ],
      "metadata": {
        "colab": {
          "base_uri": "https://localhost:8080/"
        },
        "id": "GBnlfQDTXs2T",
        "outputId": "070480cc-93fe-4014-97a9-4a3f46387049"
      },
      "id": "GBnlfQDTXs2T",
      "execution_count": null,
      "outputs": [
        {
          "name": "stdout",
          "output_type": "stream",
          "text": [
            "enter the second number7\n"
          ]
        }
      ]
    },
    {
      "cell_type": "code",
      "execution_count": null,
      "id": "7eb27a8b-f622-456b-9a87-bd9a3073ec30",
      "metadata": {
        "id": "7eb27a8b-f622-456b-9a87-bd9a3073ec30",
        "colab": {
          "base_uri": "https://localhost:8080/"
        },
        "outputId": "89d76520-e14d-46f7-b260-4d7014154607"
      },
      "outputs": [
        {
          "output_type": "stream",
          "name": "stdout",
          "text": [
            "b is greater than a\n"
          ]
        }
      ],
      "source": [
        "if (a>b) :\n",
        "  print('a is greater than b')\n",
        "else :\n",
        "  print(\"b is greater than a\")\n"
      ]
    },
    {
      "cell_type": "markdown",
      "id": "54c8ec64-39d6-4e96-afb1-d36615f738bb",
      "metadata": {
        "id": "54c8ec64-39d6-4e96-afb1-d36615f738bb"
      },
      "source": [
        "#### Repeat a group of actions\n",
        "\n",
        "Lets say I want to print out a countdown.  I could do a print statement for each."
      ]
    },
    {
      "cell_type": "code",
      "execution_count": null,
      "id": "9e953c23-894f-48e8-a2ed-981e5e698af2",
      "metadata": {
        "id": "9e953c23-894f-48e8-a2ed-981e5e698af2"
      },
      "outputs": [],
      "source": [
        "print(10)\n",
        "print(9)\n",
        "print(8)\n",
        "print(7)\n",
        "print(6)\n",
        "print(5)\n",
        "print(4)\n",
        "print(3)\n",
        "print(2)\n",
        "print(1)\n",
        "print(\"Blast Off!\")"
      ]
    },
    {
      "cell_type": "markdown",
      "id": "eda408c4-53ac-4250-8982-4b96f62e75d8",
      "metadata": {
        "id": "eda408c4-53ac-4250-8982-4b96f62e75d8"
      },
      "source": [
        "Notice that each line is very similar, a print statement, and just printing out a different number.\n",
        "\n",
        "It turns out, repeating something is very common in programming and all languages provide way to do this easier.  In Python we can use the *for* loop. We will use a list of numbers.  Recall in Python a *list* is ordered.   There are other way to do this, but this notebook is to just give us a understanding.  We will explore loops in more detail in later notebooks."
      ]
    },
    {
      "cell_type": "code",
      "execution_count": null,
      "id": "ca532d99-2994-46f4-a3a8-64506790c51a",
      "metadata": {
        "id": "ca532d99-2994-46f4-a3a8-64506790c51a"
      },
      "outputs": [],
      "source": []
    }
  ],
  "metadata": {
    "kernelspec": {
      "display_name": "Python 3 (ipykernel)",
      "language": "python",
      "name": "python3"
    },
    "language_info": {
      "codemirror_mode": {
        "name": "ipython",
        "version": 3
      },
      "file_extension": ".py",
      "mimetype": "text/x-python",
      "name": "python",
      "nbconvert_exporter": "python",
      "pygments_lexer": "ipython3",
      "version": "3.9.6"
    },
    "colab": {
      "provenance": [],
      "include_colab_link": true
    }
  },
  "nbformat": 4,
  "nbformat_minor": 5
}
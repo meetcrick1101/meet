{
  "nbformat": 4,
  "nbformat_minor": 0,
  "metadata": {
    "colab": {
      "provenance": [],
      "authorship_tag": "ABX9TyPXO3NlKFCSP+TN0WEk15cJ",
      "include_colab_link": true
    },
    "kernelspec": {
      "name": "python3",
      "display_name": "Python 3"
    },
    "language_info": {
      "name": "python"
    }
  },
  "cells": [
    {
      "cell_type": "markdown",
      "metadata": {
        "id": "view-in-github",
        "colab_type": "text"
      },
      "source": [
        "<a href=\"https://colab.research.google.com/github/meetcrick1101/meet/blob/main/dmoj_data_plan_pynb.ipynb\" target=\"_parent\"><img src=\"https://colab.research.google.com/assets/colab-badge.svg\" alt=\"Open In Colab\"/></a>"
      ]
    },
    {
      "cell_type": "code",
      "execution_count": null,
      "metadata": {
        "colab": {
          "base_uri": "https://localhost:8080/"
        },
        "id": "PJ9bKfsZOfpW",
        "outputId": "851979eb-b9af-40ea-bc24-ea51d7ed1f1a"
      },
      "outputs": [
        {
          "output_type": "stream",
          "name": "stdout",
          "text": [
            "10\n",
            "3\n",
            "4\n",
            "16\n",
            "6\n",
            "20\n",
            "2\n",
            "28\n"
          ]
        }
      ],
      "source": [
        "# 10\n",
        "# 3\n",
        "# 4\n",
        "# 6\n",
        "# 2\n",
        "mb = int(input())\n",
        "excess = 0\n",
        "months = int(input())\n",
        "for m in range(months):\n",
        "  usage = int(input())\n",
        "  excess = excess + mb - usage\n",
        "\n",
        "  print(excess + mb)\n"
      ]
    },
    {
      "cell_type": "code",
      "source": [
        "mb = int(input())\n",
        "months = int(input())\n",
        "total_mb = mb * (months +1)\n",
        "for m in range(months):\n",
        "  usage = int(input())\n",
        "  total_mb = total_mb - usage\n",
        "\n",
        "  print(total_mb)"
      ],
      "metadata": {
        "colab": {
          "base_uri": "https://localhost:8080/"
        },
        "id": "S00o8V0oaR3J",
        "outputId": "c9a70f6e-0c54-47f2-d88e-5bfb5542b406"
      },
      "execution_count": null,
      "outputs": [
        {
          "output_type": "stream",
          "name": "stdout",
          "text": [
            "10\n",
            "3\n",
            "4\n",
            "36\n",
            "6\n",
            "30\n",
            "2\n",
            "28\n"
          ]
        }
      ]
    }
  ]
}
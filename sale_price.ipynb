{
  "nbformat": 4,
  "nbformat_minor": 0,
  "metadata": {
    "colab": {
      "name": "sale_price.ipynb",
      "provenance": [],
      "include_colab_link": true
    },
    "kernelspec": {
      "name": "python3",
      "display_name": "Python 3"
    },
    "language_info": {
      "name": "python"
    }
  },
  "cells": [
    {
      "cell_type": "markdown",
      "metadata": {
        "id": "view-in-github",
        "colab_type": "text"
      },
      "source": [
        "<a href=\"https://colab.research.google.com/github/meetcrick1101/meet/blob/main/sale_price.ipynb\" target=\"_parent\"><img src=\"https://colab.research.google.com/assets/colab-badge.svg\" alt=\"Open In Colab\"/></a>"
      ]
    },
    {
      "cell_type": "markdown",
      "metadata": {
        "id": "cgTeiXOtSPjH"
      },
      "source": [
        "# Sales Price\n",
        "\n",
        "A local department store needs to develop a program that will computer the total price (including goods and services tax) of the item on sale when given an item's original price and discount percentage.\n",
        "\n",
        "## Tasks\n",
        "* Save to Github\n",
        "* Design Algorithm\n",
        "* Write and test the program in Python"
      ]
    },
    {
      "cell_type": "code",
      "metadata": {
        "id": "pPIN2ZcrSqdw",
        "colab": {
          "base_uri": "https://localhost:8080/"
        },
        "outputId": "decd00e7-523b-4419-c352-4fb24101bb32"
      },
      "source": [
        "def calculate_total_price(original_price, discount_percentage):\n",
        "    # Calculate the discounted price\n",
        "    discounted_price = original_price - (original_price * (discount_percentage / 100))\n",
        "\n",
        "    # Calculate GST (assuming GST is 10%)\n",
        "    gst = discounted_price * 0.1\n",
        "\n",
        "    # Calculate total price including GST\n",
        "    total_price = discounted_price + gst\n",
        "\n",
        "    return total_price\n",
        "\n",
        "def main():\n",
        "    # Input original price and discount percentage\n",
        "    original_price = float(input(\"Enter the original price of the item: \"))\n",
        "    discount_percentage = float(input(\"Enter the discount percentage: \"))\n",
        "\n",
        "    # Calculate total price\n",
        "    total_price = calculate_total_price(original_price, discount_percentage)\n",
        "\n",
        "    # Display the total price\n",
        "    print(\"Total price (including GST): ${:.2f}\".format(total_price))\n",
        "\n",
        "if __name__ == \"__main__\":\n",
        "    main()\n"
      ],
      "execution_count": 4,
      "outputs": [
        {
          "output_type": "stream",
          "name": "stdout",
          "text": [
            "Enter the original price of the item: 100\n",
            "Enter the discount percentage: 10\n",
            "Total price (including GST): $99.00\n"
          ]
        }
      ]
    },
    {
      "cell_type": "code",
      "source": [
        "help(calculate_total_price)"
      ],
      "metadata": {
        "colab": {
          "base_uri": "https://localhost:8080/"
        },
        "id": "OfUa8NbWffXV",
        "outputId": "1da45d88-47b8-44e8-ae3c-847473254497"
      },
      "execution_count": 5,
      "outputs": [
        {
          "output_type": "stream",
          "name": "stdout",
          "text": [
            "Help on function calculate_total_price in module __main__:\n",
            "\n",
            "calculate_total_price(original_price, discount_percentage)\n",
            "\n"
          ]
        }
      ]
    }
  ]
}
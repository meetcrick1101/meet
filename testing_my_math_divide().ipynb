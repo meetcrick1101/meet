{
  "nbformat": 4,
  "nbformat_minor": 0,
  "metadata": {
    "colab": {
      "name": "testing_my_math.divide().ipynb",
      "provenance": [],
      "include_colab_link": true
    },
    "kernelspec": {
      "name": "python3",
      "display_name": "Python 3"
    },
    "language_info": {
      "name": "python"
    }
  },
  "cells": [
    {
      "cell_type": "markdown",
      "metadata": {
        "id": "view-in-github",
        "colab_type": "text"
      },
      "source": [
        "<a href=\"https://colab.research.google.com/github/meetcrick1101/meet/blob/main/testing_my_math_divide().ipynb\" target=\"_parent\"><img src=\"https://colab.research.google.com/assets/colab-badge.svg\" alt=\"Open In Colab\"/></a>"
      ]
    },
    {
      "cell_type": "markdown",
      "source": [
        "## Testing  my_math.divide()\n",
        "\n",
        "What is your preferred testing strategy? Do you like using the assert statement or prefer doctest?  \n",
        "\n",
        "Using your preferred testing strategy, develop a test table and test the following funciton.  Where required update the function so all test behave as expected.\n",
        "\n",
        "\n",
        "## Function to test"
      ],
      "metadata": {
        "id": "LIfoDVzKX7uK"
      }
    },
    {
      "cell_type": "code",
      "source": [
        "def divide(x, y):\n",
        "    '''Divide first by second number'''\n",
        "    if y == 0:\n",
        "        return \"Error: Division by zero is undefined in mathematics.\"\n",
        "    else:\n",
        "        return x / y"
      ],
      "metadata": {
        "id": "YH9gDoOYvKwg"
      },
      "execution_count": 1,
      "outputs": []
    },
    {
      "cell_type": "markdown",
      "source": [
        "## Test Table\n",
        "\n",
        "List you test cases here."
      ],
      "metadata": {
        "id": "JYSZ-53nLF6n"
      }
    },
    {
      "cell_type": "code",
      "source": [
        "def divide(x, y):\n",
        "    '''Divide first by second number\n",
        "\n",
        "    # Example 1: Dividing by zero\n",
        "    >>> divide(10, 0)\n",
        "    \"Error: Division by zero is undefined in mathematics.\"\n",
        "\n",
        "    # Example 2: Result is a decimal number\n",
        "    >>> divide(10, 3)\n",
        "    3.3333333333333335\n",
        "\n",
        "    # Example 3: Negative result\n",
        "    >>> divide(-10, 2)\n",
        "    -5.0\n",
        "\n",
        "    # Example 4: Dividing a negative number by a negative number (result is positive)\n",
        "    >>> divide(-10, -2)\n",
        "    5.0\n",
        "\n",
        "    # Example 5: Dividing zero by any number\n",
        "    >>> divide(0, 5)\n",
        "    0.0\n",
        "    '''\n",
        "    if y == 0:\n",
        "        return \"Error: Division by zero is undefined in mathematics.\"\n",
        "    else:\n",
        "        return x / y\n"
      ],
      "metadata": {
        "id": "DMTITEmbLE_Z"
      },
      "execution_count": 2,
      "outputs": []
    },
    {
      "cell_type": "code",
      "source": [
        "import doctest\n",
        "doctest.testmod()"
      ],
      "metadata": {
        "id": "51sGAEhRbm42",
        "outputId": "f0adfd58-00cf-448a-a3cb-01e71258c952",
        "colab": {
          "base_uri": "https://localhost:8080/"
        }
      },
      "execution_count": 4,
      "outputs": [
        {
          "output_type": "stream",
          "name": "stdout",
          "text": [
            "**********************************************************************\n",
            "File \"__main__\", line 5, in __main__.divide\n",
            "Failed example:\n",
            "    divide(10, 0)\n",
            "Expected:\n",
            "    \"Error: Division by zero is undefined in mathematics.\"\n",
            "Got:\n",
            "    'Error: Division by zero is undefined in mathematics.'\n",
            "**********************************************************************\n",
            "1 items had failures:\n",
            "   1 of   5 in __main__.divide\n",
            "***Test Failed*** 1 failures.\n"
          ]
        },
        {
          "output_type": "execute_result",
          "data": {
            "text/plain": [
              "TestResults(failed=1, attempted=5)"
            ]
          },
          "metadata": {},
          "execution_count": 4
        }
      ]
    }
  ]
}